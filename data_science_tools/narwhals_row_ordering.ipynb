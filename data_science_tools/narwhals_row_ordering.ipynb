{
 "cells": [
  {
   "cell_type": "markdown",
   "id": "0",
   "metadata": {
    "marimo": {
     "config": {
      "hide_code": true
     }
    }
   },
   "source": [
    "# Eager vs Lazy DataFrames: One Fix to Make Your Code Work Anywhere"
   ]
  },
  {
   "cell_type": "markdown",
   "id": "1",
   "metadata": {},
   "source": [
    "## Motivation"
   ]
  },
  {
   "cell_type": "code",
   "execution_count": null,
   "id": "2",
   "metadata": {},
   "outputs": [],
   "source": [
    "from datetime import datetime\n",
    "\n",
    "import pandas as pd\n",
    "import polars as pl\n",
    "\n",
    "data1 = {\"store\": [1, 1, 2], \"date_id\": [4, 5, 6]}\n",
    "data2 = {\"store\": [1, 2], \"sales\": [7, 8]}\n",
    "\n",
    "pandas_df1 = pd.DataFrame(data1)\n",
    "pandas_df2 = pd.DataFrame(data2)\n",
    "\n",
    "# The outputs are  the same\n",
    "for _ in range(5):\n",
    "    # Left join\n",
    "    pandas_df = pd.merge(pandas_df1, pandas_df2, on=\"store\", how=\"left\")\n",
    "\n",
    "    # Cumulative sum of sales within each store\n",
    "    pandas_df[\"cumulative_sales\"] = pandas_df.groupby(\"store\")[\"sales\"].cumsum()\n",
    "\n",
    "    print(pandas_df)"
   ]
  },
  {
   "cell_type": "code",
   "execution_count": null,
   "id": "3",
   "metadata": {},
   "outputs": [],
   "source": [
    "polars_df1 = pl.DataFrame(data1).lazy()\n",
    "polars_df2 = pl.DataFrame(data2).lazy()\n",
    "\n",
    "# The outputs are not the same\n",
    "for _ in range(5):\n",
    "    print(\n",
    "        polars_df1.join(polars_df2, on=\"store\", how=\"left\")\n",
    "        .with_columns(cumulative_sales=pl.col(\"sales\").cum_sum().over(\"store\"))\n",
    "        .collect(engine=\"streaming\")\n",
    "    )"
   ]
  },
  {
   "cell_type": "markdown",
   "id": "4",
   "metadata": {
    "marimo": {
     "config": {
      "hide_code": true
     }
    }
   },
   "source": [
    "## Eager-only solution"
   ]
  },
  {
   "cell_type": "code",
   "execution_count": null,
   "id": "5",
   "metadata": {},
   "outputs": [],
   "source": [
    "data = {\n",
    "\t\"sale_date\": [\n",
    "\t\tdatetime(2025, 5, 22),\n",
    "\t\tdatetime(2025, 5, 23),\n",
    "\t\tdatetime(2025, 5, 24),\n",
    "\t\tdatetime(2025, 5, 22),\n",
    "\t\tdatetime(2025, 5, 23),\n",
    "\t\tdatetime(2025, 5, 24),\n",
    "\t],\n",
    "\t\"store\": [\n",
    "\t\t\"Thimphu\",\n",
    "\t\t\"Thimphu\",\n",
    "\t\t\"Thimphu\",\n",
    "\t\t\"Paro\",\n",
    "\t\t\"Paro\",\n",
    "\t\t\"Paro\",\n",
    "\t],\n",
    "\t\"sales\": [1100, None, 1450, 501, 500, None],\n",
    "}\n",
    "\n",
    "pdf = pd.DataFrame(data)\n",
    "print(pdf)"
   ]
  },
  {
   "cell_type": "code",
   "execution_count": null,
   "id": "6",
   "metadata": {},
   "outputs": [],
   "source": [
    "import narwhals as nw\n",
    "from narwhals.typing import IntoFrameT\n",
    "\n",
    "\n",
    "def agnostic_ffill_by_store(df_native: IntoFrameT) -> IntoFrameT:\n",
    "\t# Supports pandas and Polars.DataFrame, but not lazy ones.\n",
    "\treturn (\n",
    "\t\tnw.from_native(df_native)\n",
    "\t\t.with_columns(\n",
    "\t\t\tnw.col(\"sales\").fill_null(strategy=\"forward\").over(\"store\")\n",
    "\t\t)\n",
    "\t\t.to_native()\n",
    "\t)"
   ]
  },
  {
   "cell_type": "code",
   "execution_count": null,
   "id": "7",
   "metadata": {},
   "outputs": [],
   "source": [
    "# pandas.DataFrame\n",
    "df_pandas = pd.DataFrame(data)\n",
    "agnostic_ffill_by_store(df_pandas)"
   ]
  },
  {
   "cell_type": "code",
   "execution_count": null,
   "id": "8",
   "metadata": {},
   "outputs": [],
   "source": [
    "# polars.DataFrame\n",
    "df_polars = pl.DataFrame(data)\n",
    "agnostic_ffill_by_store(df_polars)"
   ]
  },
  {
   "cell_type": "code",
   "execution_count": null,
   "id": "9",
   "metadata": {},
   "outputs": [],
   "source": [
    "import duckdb\n",
    "\n",
    "duckdb_rel = duckdb.table(\"df_polars\")\n",
    "duckdb_rel"
   ]
  },
  {
   "cell_type": "code",
   "execution_count": null,
   "id": "10",
   "metadata": {},
   "outputs": [],
   "source": [
    "# agnostic_ffill_by_store(duckdb_rel)\n",
    "# Error: narwhals.exceptions.OrderDependentExprError: Order-dependent expressions are not supported for use in LazyFrame."
   ]
  },
  {
   "cell_type": "markdown",
   "id": "11",
   "metadata": {
    "marimo": {
     "config": {
      "hide_code": true
     }
    }
   },
   "source": [
    "## Eager and lazy solution"
   ]
  },
  {
   "cell_type": "code",
   "execution_count": null,
   "id": "12",
   "metadata": {},
   "outputs": [],
   "source": [
    "def agnostic_ffill_by_store_improved(df_native: IntoFrameT) -> IntoFrameT:\n",
    "\treturn (\n",
    "\t\tnw.from_native(df_native)\n",
    "\t\t.with_columns(\n",
    "\t\t\tnw.col(\"sales\")\n",
    "\t\t\t.fill_null(strategy=\"forward\")\n",
    "\t\t\t# Note the `order_by` statement\n",
    "\t\t\t.over(\"store\", order_by=\"sale_date\")\n",
    "\t\t)\n",
    "\t\t.to_native()\n",
    "\t)"
   ]
  },
  {
   "cell_type": "code",
   "execution_count": null,
   "id": "13",
   "metadata": {},
   "outputs": [],
   "source": [
    "agnostic_ffill_by_store_improved(duckdb_rel)"
   ]
  },
  {
   "cell_type": "code",
   "execution_count": null,
   "id": "14",
   "metadata": {},
   "outputs": [],
   "source": [
    "agnostic_ffill_by_store_improved(df_polars.lazy()).collect()"
   ]
  },
  {
   "cell_type": "code",
   "execution_count": null,
   "id": "15",
   "metadata": {},
   "outputs": [],
   "source": [
    "# Note that it still supports pandas\n",
    "print(agnostic_ffill_by_store_improved(df_pandas))"
   ]
  }
 ],
 "metadata": {
  "language_info": {
   "name": "python"
  }
 },
 "nbformat": 4,
 "nbformat_minor": 5
}
