{
 "cells": [
  {
   "cell_type": "markdown",
   "id": "0",
   "metadata": {
    "marimo": {
     "config": {
      "hide_code": true
     }
    }
   },
   "source": [
    "# Polars vs. Pandas: A Fast, Multi-Core Alternative for DataFrames"
   ]
  },
  {
   "cell_type": "markdown",
   "id": "1",
   "metadata": {
    "marimo": {
     "config": {
      "hide_code": true
     }
    }
   },
   "source": [
    "## Setup"
   ]
  },
  {
   "cell_type": "code",
   "execution_count": null,
   "id": "2",
   "metadata": {},
   "outputs": [],
   "source": [
    "import numpy as np\n",
    "import pandas as pd\n",
    "\n",
    "# Create a large dataset\n",
    "n_rows = 10_000_000\n",
    "data = {\n",
    "    \"category\": np.random.choice([\"A\", \"B\", \"C\", \"D\"], size=n_rows),\n",
    "    \"value\": np.random.rand(n_rows) * 1000,\n",
    "}\n",
    "df = pd.DataFrame(data)\n",
    "df.head(10)"
   ]
  },
  {
   "cell_type": "code",
   "execution_count": null,
   "id": "3",
   "metadata": {},
   "outputs": [],
   "source": [
    "df.to_csv(\"large_file.csv\", index=False)"
   ]
  },
  {
   "cell_type": "markdown",
   "id": "4",
   "metadata": {
    "marimo": {
     "config": {
      "hide_code": true
     }
    }
   },
   "source": [
    "## Multi-Core Performance"
   ]
  },
  {
   "cell_type": "code",
   "execution_count": null,
   "id": "5",
   "metadata": {},
   "outputs": [],
   "source": [
    "import time\n",
    "from functools import wraps\n",
    "\n",
    "\n",
    "def timeit(operation_name):\n",
    "    def decorator(func):\n",
    "        @wraps(func)\n",
    "        def wrapper(*args, **kwargs):\n",
    "            start_time = time.time()\n",
    "            result = func(*args, **kwargs)\n",
    "            end_time = time.time()\n",
    "            execution_time = end_time - start_time\n",
    "            print(f\"{operation_name} took {execution_time:.2f} seconds\")\n",
    "            return result, execution_time\n",
    "\n",
    "        return wrapper\n",
    "\n",
    "    return decorator\n"
   ]
  },
  {
   "cell_type": "code",
   "execution_count": null,
   "id": "6",
   "metadata": {
    "marimo": {
     "name": "create_comparison_plot"
    }
   },
   "outputs": [],
   "source": [
    "import matplotlib.pyplot as plt\n",
    "import seaborn as sns\n",
    "\n",
    "\n",
    "def create_comparison_plot(pandas_time, polars_time, title):\n",
    "    # Set style for this plot\n",
    "    sns.set(style=\"whitegrid\")\n",
    "    plt.style.use(\"dark_background\")\n",
    "    plt.rcParams.update(\n",
    "        {\n",
    "            \"axes.facecolor\": \"#2F2D2E\",\n",
    "            \"figure.facecolor\": \"#2F2D2E\",\n",
    "            \"axes.labelcolor\": \"white\",\n",
    "            \"xtick.color\": \"white\",\n",
    "            \"ytick.color\": \"white\",\n",
    "            \"text.color\": \"white\",\n",
    "        }\n",
    "    )\n",
    "\n",
    "    # Create the plot\n",
    "    sns.barplot(\n",
    "        hue=[\"Pandas\", \"Polars\"],\n",
    "        y=[pandas_time, polars_time],\n",
    "        palette=[\"#E583B6\", \"#72BEFA\"],\n",
    "    )\n",
    "    plt.title(f\"{title} (seconds)\")\n",
    "    plt.ylabel(\"Time (s)\")\n",
    "    plt.show()\n"
   ]
  },
  {
   "cell_type": "markdown",
   "id": "7",
   "metadata": {
    "marimo": {
     "config": {
      "hide_code": true
     }
    }
   },
   "source": [
    "### Reading Data"
   ]
  },
  {
   "cell_type": "code",
   "execution_count": null,
   "id": "8",
   "metadata": {},
   "outputs": [],
   "source": [
    "@timeit(\"Pandas read_csv\")\n",
    "def read_pandas():\n",
    "    return pd.read_csv(\"large_file.csv\")\n",
    "\n",
    "pandas_df, pandas_read_time = read_pandas()"
   ]
  },
  {
   "cell_type": "code",
   "execution_count": null,
   "id": "9",
   "metadata": {},
   "outputs": [],
   "source": [
    "import polars as pl\n",
    "\n",
    "\n",
    "@timeit(\"Polars read_csv\")\n",
    "def read_polars():\n",
    "    return pl.read_csv(\"large_file.csv\")\n",
    "\n",
    "polars_df, polars_read_time = read_polars()"
   ]
  },
  {
   "cell_type": "code",
   "execution_count": null,
   "id": "10",
   "metadata": {},
   "outputs": [],
   "source": [
    "create_comparison_plot(pandas_read_time, polars_read_time, \"CSV Read Time\")"
   ]
  },
  {
   "cell_type": "markdown",
   "id": "11",
   "metadata": {
    "marimo": {
     "config": {
      "hide_code": true
     }
    }
   },
   "source": [
    "### Groupby Mean"
   ]
  },
  {
   "cell_type": "code",
   "execution_count": null,
   "id": "12",
   "metadata": {},
   "outputs": [],
   "source": [
    "@timeit(\"Pandas groupby\")\n",
    "def pandas_groupby(df):\n",
    "    return df.groupby(\"category\")[\"value\"].mean()\n",
    "\n",
    "pandas_result, pandas_groupby_time = pandas_groupby(pandas_df)"
   ]
  },
  {
   "cell_type": "code",
   "execution_count": null,
   "id": "13",
   "metadata": {},
   "outputs": [],
   "source": [
    "@timeit(\"Polars groupby\")\n",
    "def polars_groupby(df):\n",
    "    return df.group_by(\"category\").agg(pl.col(\"value\").mean())\n",
    "\n",
    "polars_result, polars_groupby_time = polars_groupby(polars_df)"
   ]
  },
  {
   "cell_type": "code",
   "execution_count": null,
   "id": "14",
   "metadata": {},
   "outputs": [],
   "source": [
    "create_comparison_plot(\n",
    "    pandas_groupby_time, polars_groupby_time, \"Groupby Mean Time\"\n",
    ")"
   ]
  },
  {
   "cell_type": "markdown",
   "id": "15",
   "metadata": {
    "marimo": {
     "config": {
      "hide_code": true
     }
    }
   },
   "source": [
    "### Filter Rows"
   ]
  },
  {
   "cell_type": "code",
   "execution_count": null,
   "id": "16",
   "metadata": {},
   "outputs": [],
   "source": [
    "@timeit(\"Pandas filter\")\n",
    "def pandas_filter(df):\n",
    "    return df[df[\"value\"] > 500]\n",
    "\n",
    "pandas_filtered, pandas_filter_time = pandas_filter(pandas_df)"
   ]
  },
  {
   "cell_type": "code",
   "execution_count": null,
   "id": "17",
   "metadata": {},
   "outputs": [],
   "source": [
    "@timeit(\"Polars filter\")\n",
    "def polars_filter(df):\n",
    "    return df.filter(pl.col(\"value\") > 500)\n",
    "\n",
    "polars_filtered, polars_filter_time = polars_filter(polars_df)"
   ]
  },
  {
   "cell_type": "code",
   "execution_count": null,
   "id": "18",
   "metadata": {},
   "outputs": [],
   "source": [
    "create_comparison_plot(pandas_filter_time, polars_filter_time, \"Filter Rows Time\")"
   ]
  },
  {
   "cell_type": "markdown",
   "id": "19",
   "metadata": {
    "marimo": {
     "config": {
      "hide_code": true
     }
    }
   },
   "source": [
    "### Sort by Column"
   ]
  },
  {
   "cell_type": "code",
   "execution_count": null,
   "id": "20",
   "metadata": {},
   "outputs": [],
   "source": [
    "@timeit(\"Pandas sort\")\n",
    "def pandas_sort(df):\n",
    "    return df.sort_values(\"value\")\n",
    "\n",
    "pandas_sorted, pandas_sort_time = pandas_sort(pandas_df)"
   ]
  },
  {
   "cell_type": "code",
   "execution_count": null,
   "id": "21",
   "metadata": {},
   "outputs": [],
   "source": [
    "@timeit(\"Polars sort\")\n",
    "def polars_sort(df):\n",
    "    return df.sort(\"value\")\n",
    "\n",
    "polars_sorted, polars_sort_time = polars_sort(polars_df)"
   ]
  },
  {
   "cell_type": "code",
   "execution_count": null,
   "id": "22",
   "metadata": {},
   "outputs": [],
   "source": [
    "create_comparison_plot(pandas_sort_time, polars_sort_time, \"Sort Time\")"
   ]
  },
  {
   "cell_type": "markdown",
   "id": "23",
   "metadata": {
    "marimo": {
     "config": {
      "hide_code": true
     }
    }
   },
   "source": [
    "## Lazy Evaluation (Only in Polars)"
   ]
  },
  {
   "cell_type": "code",
   "execution_count": null,
   "id": "24",
   "metadata": {},
   "outputs": [],
   "source": [
    "query = (\n",
    "    pl.read_csv(\"large_file.csv\").lazy()\n",
    "    .group_by(\"category\")\n",
    "    .agg(pl.col(\"value\").mean().alias(\"avg_value\"))\n",
    "    .filter(pl.col(\"avg_value\") > 100)\n",
    ")\n",
    "\n",
    "print(query.explain())"
   ]
  },
  {
   "cell_type": "code",
   "execution_count": null,
   "id": "25",
   "metadata": {},
   "outputs": [],
   "source": [
    "result = query.collect()\n",
    "print(result.head())"
   ]
  },
  {
   "cell_type": "markdown",
   "id": "26",
   "metadata": {
    "marimo": {
     "config": {
      "hide_code": true
     }
    }
   },
   "source": [
    "## Syntax Comparison"
   ]
  },
  {
   "cell_type": "markdown",
   "id": "27",
   "metadata": {
    "marimo": {
     "config": {
      "hide_code": true
     }
    }
   },
   "source": [
    "### Filtering rows"
   ]
  },
  {
   "cell_type": "code",
   "execution_count": null,
   "id": "28",
   "metadata": {},
   "outputs": [],
   "source": [
    "pandas_filtered_rows_df = pandas_df[pandas_df[\"value\"] > 100]"
   ]
  },
  {
   "cell_type": "code",
   "execution_count": null,
   "id": "29",
   "metadata": {},
   "outputs": [],
   "source": [
    "polars_filtered_rows_df = polars_df.filter(pl.col(\"value\") > 100)"
   ]
  },
  {
   "cell_type": "markdown",
   "id": "30",
   "metadata": {
    "marimo": {
     "config": {
      "hide_code": true
     }
    }
   },
   "source": [
    "### Selecting columns"
   ]
  },
  {
   "cell_type": "code",
   "execution_count": null,
   "id": "31",
   "metadata": {},
   "outputs": [],
   "source": [
    "pandas_selected_columns_df = pandas_df[[\"category\", \"value\"]]"
   ]
  },
  {
   "cell_type": "code",
   "execution_count": null,
   "id": "32",
   "metadata": {},
   "outputs": [],
   "source": [
    "polars_selected_columns_df = polars_df.select([\"category\", \"value\"])"
   ]
  },
  {
   "cell_type": "markdown",
   "id": "33",
   "metadata": {
    "marimo": {
     "config": {
      "hide_code": true
     }
    }
   },
   "source": [
    "### Chained operations"
   ]
  },
  {
   "cell_type": "code",
   "execution_count": null,
   "id": "34",
   "metadata": {},
   "outputs": [],
   "source": [
    "pandas_chained_operations_df = pandas_df[pandas_df[\"value\"] > 1000]\n",
    "pandas_chained_operations_df = (\n",
    "    pandas_chained_operations_df.groupby(\"category\")[\"value\"].mean().reset_index()\n",
    ")"
   ]
  },
  {
   "cell_type": "code",
   "execution_count": null,
   "id": "35",
   "metadata": {},
   "outputs": [],
   "source": [
    "polars_chained_operations_df = polars_df.filter(pl.col(\"value\") > 1000)\n",
    "polars_chained_operations_df = polars_chained_operations_df.group_by(\n",
    "    \"category\"\n",
    ").agg(pl.col(\"value\").mean().alias(\"avg_value\"))"
   ]
  },
  {
   "cell_type": "markdown",
   "id": "36",
   "metadata": {
    "marimo": {
     "config": {
      "hide_code": true
     }
    }
   },
   "source": [
    "## Memory Efficiency"
   ]
  },
  {
   "cell_type": "code",
   "execution_count": null,
   "id": "37",
   "metadata": {},
   "outputs": [],
   "source": [
    "pandas_memory = pandas_df.memory_usage(deep=True).sum() / 1000000.0\n",
    "polars_memory = polars_df.estimated_size() / 1000000.0\n",
    "\n",
    "print(f\"Pandas DataFrame memory usage: {pandas_memory:.2f} MB\")\n",
    "print(f\"Polars DataFrame estimated size: {polars_memory:.2f} MB\")"
   ]
  }
 ],
 "metadata": {},
 "nbformat": 4,
 "nbformat_minor": 5
}
