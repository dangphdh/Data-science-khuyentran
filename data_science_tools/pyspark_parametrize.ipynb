{
 "cells": [
  {
   "cell_type": "markdown",
   "id": "0",
   "metadata": {
    "marimo": {
     "config": {
      "hide_code": true
     }
    }
   },
   "source": [
    "## Set Up"
   ]
  },
  {
   "cell_type": "code",
   "execution_count": null,
   "id": "1",
   "metadata": {},
   "outputs": [],
   "source": [
    "from datetime import date\n",
    "\n",
    "import pandas as pd\n",
    "from pyspark.sql import SparkSession\n",
    "\n",
    "spark = SparkSession.builder.getOrCreate()"
   ]
  },
  {
   "cell_type": "code",
   "execution_count": null,
   "id": "2",
   "metadata": {},
   "outputs": [],
   "source": [
    "# Create a Spark DataFrame\n",
    "item_price_pandas = pd.DataFrame(\n",
    "    {\n",
    "        \"item_id\": [1, 2, 3, 4],\n",
    "        \"price\": [4, 2, 5, 1],\n",
    "        \"transaction_date\": [\n",
    "            date(2025, 1, 15),\n",
    "            date(2025, 2, 1),\n",
    "            date(2025, 3, 10),\n",
    "            date(2025, 4, 22),\n",
    "        ],\n",
    "    }\n",
    ")\n",
    "\n",
    "item_price = spark.createDataFrame(item_price_pandas)\n",
    "item_price.show()"
   ]
  },
  {
   "cell_type": "markdown",
   "id": "3",
   "metadata": {
    "marimo": {
     "config": {
      "hide_code": true
     }
    }
   },
   "source": [
    "## Traditional Query Approach"
   ]
  },
  {
   "cell_type": "code",
   "execution_count": null,
   "id": "4",
   "metadata": {},
   "outputs": [],
   "source": [
    "item_price.createOrReplaceTempView(\"item_price_view\")\n",
    "transaction_date_str = \"2025-02-15\"\n",
    "\n",
    "query_with_fstring = f\"\"\"SELECT *\n",
    "FROM item_price_view\n",
    "WHERE transaction_date > '{transaction_date_str}'\n",
    "\"\"\"\n",
    "\n",
    "spark.sql(query_with_fstring).show()"
   ]
  },
  {
   "cell_type": "markdown",
   "id": "5",
   "metadata": {
    "marimo": {
     "config": {
      "hide_code": true
     }
    }
   },
   "source": [
    "## Parameterized Queries with PySpark Custom String Formatting"
   ]
  },
  {
   "cell_type": "code",
   "execution_count": null,
   "id": "6",
   "metadata": {},
   "outputs": [],
   "source": [
    "parametrized_query = \"\"\"SELECT *\n",
    "FROM {item_price}\n",
    "WHERE transaction_date > {transaction_date}\n",
    "\"\"\"\n",
    "\n",
    "spark.sql(\n",
    "    parametrized_query, item_price=item_price, transaction_date=transaction_date_str\n",
    ").show()"
   ]
  },
  {
   "cell_type": "markdown",
   "id": "7",
   "metadata": {
    "marimo": {
     "config": {
      "hide_code": true
     }
    }
   },
   "source": [
    "## Parameterized Queries with Parameter Markers"
   ]
  },
  {
   "cell_type": "code",
   "execution_count": null,
   "id": "8",
   "metadata": {},
   "outputs": [],
   "source": [
    "query_with_markers = \"\"\"SELECT *\n",
    "FROM {item_price}\n",
    "WHERE transaction_date > :transaction_date\n",
    "\"\"\"\n",
    "\n",
    "transaction_date = date(2025, 2, 15)\n",
    "\n",
    "spark.sql(\n",
    "    query_with_markers,\n",
    "    item_price=item_price,\n",
    "    args={\"transaction_date\": transaction_date},\n",
    ").show()"
   ]
  },
  {
   "cell_type": "markdown",
   "id": "9",
   "metadata": {
    "marimo": {
     "config": {
      "hide_code": true
     }
    }
   },
   "source": [
    "## Make SQL Easier to Reuse"
   ]
  },
  {
   "cell_type": "code",
   "execution_count": null,
   "id": "10",
   "metadata": {},
   "outputs": [],
   "source": [
    "transaction_date_1 = date(2025, 3, 9)\n",
    "\n",
    "spark.sql(\n",
    "    query_with_markers,\n",
    "    item_price=item_price,\n",
    "    args={\"transaction_date\": transaction_date_1},\n",
    ").show()"
   ]
  },
  {
   "cell_type": "code",
   "execution_count": null,
   "id": "11",
   "metadata": {},
   "outputs": [],
   "source": [
    "transaction_date_2 = date(2025, 3, 15)\n",
    "\n",
    "spark.sql(\n",
    "    query_with_markers,\n",
    "    item_price=item_price,\n",
    "    args={\"transaction_date\": transaction_date_2},\n",
    ").show()"
   ]
  },
  {
   "cell_type": "markdown",
   "id": "12",
   "metadata": {
    "marimo": {
     "config": {
      "hide_code": true
     }
    }
   },
   "source": [
    "## Easier Unit Testing with Parameterized Queries"
   ]
  },
  {
   "cell_type": "code",
   "execution_count": null,
   "id": "13",
   "metadata": {},
   "outputs": [],
   "source": [
    "def filter_by_price_threshold(df, amount):\n",
    "    return spark.sql(\n",
    "        \"SELECT * from {df} where price > :amount\", df=df, args={\"amount\": amount}\n",
    "    )\n"
   ]
  },
  {
   "cell_type": "code",
   "execution_count": null,
   "id": "14",
   "metadata": {
    "marimo": {
     "name": "test_query_return_correct_number_of_rows"
    }
   },
   "outputs": [],
   "source": [
    "# Create test input DataFrame\n",
    "df = spark.createDataFrame(\n",
    "    [\n",
    "        (\"Product 1\", 10.0, 5),\n",
    "        (\"Product 2\", 15.0, 3),\n",
    "        (\"Product 3\", 8.0, 2),\n",
    "    ],\n",
    "    [\"name\", \"price\", \"quantity\"],\n",
    ")\n",
    "\n",
    "# Execute query with parameters\n",
    "assert filter_by_price_threshold(df, 10).count() == 1\n",
    "assert filter_by_price_threshold(df, 8).count() == 2"
   ]
  }
 ],
 "metadata": {
  "language_info": {
   "name": "python"
  }
 },
 "nbformat": 4,
 "nbformat_minor": 5
}
