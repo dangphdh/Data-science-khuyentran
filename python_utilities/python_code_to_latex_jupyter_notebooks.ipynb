{
 "cells": [
  {
   "cell_type": "markdown",
   "id": "0",
   "metadata": {},
   "source": [
    "# Convert Python Code to LaTeX in Jupyter Notebooks"
   ]
  },
  {
   "cell_type": "markdown",
   "id": "1",
   "metadata": {},
   "source": [
    "## IPython.display.Latex: Built-in LaTeX Rendering\n",
    "\n",
    "The simplest approach uses Jupyter's built-in LaTeX rendering. It is ideal when you want precise control over mathematical notation.\n",
    "\n",
    "Let's create a professional-looking compound interest calculation.\n",
    "\n",
    "Start with defining the variables, where `P` is the principal amount, `r` is the annual interest rate, and `t` is the number of years."
   ]
  },
  {
   "cell_type": "code",
   "execution_count": null,
   "id": "2",
   "metadata": {},
   "outputs": [],
   "source": [
    "P = 10000 # principal amount\n",
    "r = 0.08 # annual interest rate\n",
    "t = 5 # number of years"
   ]
  },
  {
   "cell_type": "markdown",
   "id": "3",
   "metadata": {},
   "source": [
    "Now we are ready to display the calculation in LaTeX. To make the calculation easier to follow, we will break it down into three parts:\n",
    "\n",
    "- Display the formula\n",
    "- Substitute the variables into the formula\n",
    "- Display the result"
   ]
  },
  {
   "cell_type": "code",
   "execution_count": null,
   "id": "4",
   "metadata": {},
   "outputs": [],
   "source": [
    "from IPython.display import Latex, display\n",
    "\n",
    "# Calculate result\n",
    "A = P * (1 + r) ** t\n",
    "\n",
    "# Display the calculation with LaTeX\n",
    "display(Latex(r\"$A = P(1 + r)^t$\"))\n",
    "display(Latex(f\"$A = {P:,}(1 + {r})^{{{t}}}$\"))\n",
    "display(Latex(f\"$A = {A:,.2f}$\"))"
   ]
  },
  {
   "cell_type": "markdown",
   "id": "5",
   "metadata": {},
   "source": [
    "This shows step-by-step substitutions. But writing LaTeX for each step is manual and slow. Wouldn't it be nice if we could have steps and substitutions and latex code automatically generated when writing Python code?\n",
    "\n",
    "That is where handcalcs comes in."
   ]
  },
  {
   "cell_type": "markdown",
   "id": "6",
   "metadata": {},
   "source": [
    "## handcalcs: Step-by-Step Calculations\n",
    "\n",
    "handcalcs automatically converts Python calculations into step-by-step mathematical documentation. It's perfect for technical reports and educational content.\n",
    "\n",
    "### Jupyter Magic Command\n",
    "\n",
    "To use handcals in Jupyter, we need to load the extension first."
   ]
  },
  {
   "cell_type": "code",
   "execution_count": null,
   "id": "7",
   "metadata": {},
   "outputs": [],
   "source": [
    "import handcalcs.render\n",
    "from handcalcs import handcalc\n",
    "\n",
    "# Enable handcalcs in Jupyter\n",
    "%load_ext handcalcs.render"
   ]
  },
  {
   "cell_type": "markdown",
   "id": "8",
   "metadata": {},
   "source": [
    "Now we can use the `%%render` magic command to render the calculation."
   ]
  },
  {
   "cell_type": "code",
   "execution_count": null,
   "id": "9",
   "metadata": {},
   "outputs": [],
   "source": [
    "%%render\n",
    "# Step-by-step substitutions for compound interest\n",
    "A = P * (1 + r)**t"
   ]
  },
  {
   "cell_type": "markdown",
   "id": "10",
   "metadata": {},
   "source": [
    "This renders as a complete step-by-step calculation showing all substitutions and intermediate results. All without writing a single line of LaTeX code!\n",
    "\n",
    "### Function Decorator (handcalc)\n",
    "\n",
    "Use the function decorator to render calculations. Set `jupyter_display=True` to show the LaTeX in Jupyter."
   ]
  },
  {
   "cell_type": "code",
   "execution_count": null,
   "id": "11",
   "metadata": {},
   "outputs": [],
   "source": [
    "from handcalcs import handcalc\n",
    "\n",
    "@handcalc(jupyter_display=True)\n",
    "def calculate_compound_interest(P, r, t):\n",
    "    A = P * (1 + r)**t\n",
    "    return A\n",
    "\n",
    "# Calling the function renders the calculation with substitutions\n",
    "result = calculate_compound_interest(10000, 0.08, 5)"
   ]
  },
  {
   "cell_type": "markdown",
   "id": "12",
   "metadata": {},
   "source": [
    "The result is a simple number that can be used for further calculations."
   ]
  },
  {
   "cell_type": "code",
   "execution_count": null,
   "id": "13",
   "metadata": {},
   "outputs": [],
   "source": [
    "result\n",
    "print(f\"Result: {result:,.2f}\")"
   ]
  },
  {
   "cell_type": "markdown",
   "id": "14",
   "metadata": {},
   "source": [
    "## latexify-py: Automated Function Conversion\n",
    "\n",
    "Unlike handcalcs, which renders step-by-step numeric substitutions,latexify-py focuses on function-level documentation without the intermediate arithmetic. It's ideal when you want a clean, reusable formula and don't need to show the intermediate steps."
   ]
  },
  {
   "cell_type": "code",
   "execution_count": null,
   "id": "15",
   "metadata": {},
   "outputs": [],
   "source": [
    "import latexify\n",
    "\n",
    "# Simple function conversion\n",
    "@latexify.function\n",
    "def A(P, r, t):\n",
    "    return P * (1 + r) ** t\n",
    "\n",
    "A"
   ]
  },
  {
   "cell_type": "markdown",
   "id": "16",
   "metadata": {},
   "source": [
    "The latexify-py function can be used like a normal Python function to compute the result."
   ]
  },
  {
   "cell_type": "code",
   "execution_count": null,
   "id": "17",
   "metadata": {},
   "outputs": [],
   "source": [
    "result = A(10000, 0.08, 5)\n",
    "print(f\"Result: {result:,.2f}\")"
   ]
  },
  {
   "cell_type": "markdown",
   "id": "18",
   "metadata": {},
   "source": [
    "## SymPy: Symbolic Mathematics\n",
    "\n",
    "handcalcs and latexify-py excel at rendering clear results from concrete values, but they are not good at symbolic tasks like solving variables, computing derivatives or integrals. For these tasks, use SymPy.\n",
    "\n",
    "To create a symbolic equation, start with defining the variables and the equation."
   ]
  },
  {
   "cell_type": "code",
   "execution_count": null,
   "id": "19",
   "metadata": {},
   "outputs": [],
   "source": [
    "from sympy import symbols, Eq, solve\n",
    "\n",
    "# Define the variables\n",
    "A, P, r, t = symbols(\"A P r t\", positive=True)\n",
    "\n",
    "# Define the equation\n",
    "eq = Eq(A, P * (1 + r) ** t)\n",
    "eq"
   ]
  },
  {
   "cell_type": "markdown",
   "id": "20",
   "metadata": {},
   "source": [
    "After setting up the equation, we are ready to perform symbolic calculations.\n",
    "\n",
    "### Substitute Variables\n",
    "\n",
    "Let's compute `A` (amount) from given `P` (principal), `r` (interest rate), and `t` (time) by solving for `A` and substituting values."
   ]
  },
  {
   "cell_type": "code",
   "execution_count": null,
   "id": "21",
   "metadata": {},
   "outputs": [],
   "source": [
    "# Solve for A\n",
    "A_expr = solve(eq, A)[0]\n",
    "\n",
    "# Substitute the values\n",
    "A_result = A_expr.subs({P: 10000, r: 0.08, t: 5})\n",
    "A_result"
   ]
  },
  {
   "cell_type": "markdown",
   "id": "22",
   "metadata": {},
   "source": [
    "### Solve for a Variable\n",
    "\n",
    "Let's solve the equation for `t` to answer the question: \"How many years will it take for the investment to reach A (amount) given P (principal) and r (interest rate)?\""
   ]
  },
  {
   "cell_type": "code",
   "execution_count": null,
   "id": "23",
   "metadata": {},
   "outputs": [],
   "source": [
    "t_sol = solve(eq, t)[0]\n",
    "t_sol"
   ]
  },
  {
   "cell_type": "markdown",
   "id": "24",
   "metadata": {},
   "source": [
    "The result is the formula to solve for `t`.\n",
    "\n",
    "Now we can substitute the variables into the equation to answer a more specific question: \"How many years will it take for the investment to reach $5,000 given a principal of $1,000 and an annual interest rate of 8%?\""
   ]
  },
  {
   "cell_type": "code",
   "execution_count": null,
   "id": "25",
   "metadata": {},
   "outputs": [],
   "source": [
    "t_result = t_sol.subs({P: 1000, r: 0.08, A: 5000}).evalf(2)\n",
    "t_result"
   ]
  },
  {
   "cell_type": "markdown",
   "id": "26",
   "metadata": {},
   "source": [
    "The result shows that it will take approximately 21 years for the investment to reach $5,000.\n",
    "\n",
    "### Expand and Factor an Expression\n",
    "\n",
    "We can also use SymPy to expand and factor an expression.\n",
    "\n",
    "Assume `t = 2`. With an annual rate `r` and two compounding periods, the expression becomes:"
   ]
  },
  {
   "cell_type": "code",
   "execution_count": null,
   "id": "27",
   "metadata": {},
   "outputs": [],
   "source": [
    "compound_expr = P * (1 + r) ** 2\n",
    "compound_expr"
   ]
  },
  {
   "cell_type": "markdown",
   "id": "28",
   "metadata": {},
   "source": [
    "Let's expand the expression using the `expand` function."
   ]
  },
  {
   "cell_type": "code",
   "execution_count": null,
   "id": "29",
   "metadata": {},
   "outputs": [],
   "source": [
    "from sympy import expand\n",
    "\n",
    "expanded_expr = expand(compound_expr)\n",
    "expanded_expr"
   ]
  },
  {
   "cell_type": "markdown",
   "id": "30",
   "metadata": {},
   "source": [
    "We can then turn the expression back into a product of factors using the `factor` function."
   ]
  },
  {
   "cell_type": "code",
   "execution_count": null,
   "id": "31",
   "metadata": {},
   "outputs": [],
   "source": [
    "from sympy import factor\n",
    "\n",
    "factored_expr = factor(expanded_expr)\n",
    "factored_expr"
   ]
  }
 ],
 "metadata": {
  "kernelspec": {
   "display_name": ".venv",
   "language": "python",
   "name": "python3"
  },
  "language_info": {
   "codemirror_mode": {
    "name": "ipython",
    "version": 3
   },
   "file_extension": ".py",
   "mimetype": "text/x-python",
   "name": "python",
   "nbconvert_exporter": "python",
   "pygments_lexer": "ipython3",
   "version": "3.11.11"
  }
 },
 "nbformat": 4,
 "nbformat_minor": 5
}
