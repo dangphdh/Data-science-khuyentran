{
 "cells": [
  {
   "cell_type": "markdown",
   "metadata": {},
   "source": [
    "# 5 Essential Itertools for Data Science\n",
    "\n",
    "Imagine you write nested loops for combinatorial features and they work great initially. However, as your feature engineering scales, this custom code becomes buggy and nearly impossible to debug or extend."
   ]
  },
  {
   "cell_type": "code",
   "execution_count": null,
   "metadata": {},
   "outputs": [],
   "source": [
    "for i in range(len(numerical_features)):\n",
    "    for j in range(i + 1, len(numerical_features)):\n",
    "        df[f\"{numerical_features[i]}_x_{numerical_features[j]}\"] = (\n",
    "            df[numerical_features[i]] * df[numerical_features[j]]\n",
    "        )"
   ]
  },
  {
   "cell_type": "markdown",
   "metadata": {},
   "source": [
    "[Itertools](https://docs.python.org/3/library/itertools.html) provides battle-tested, efficient functions that make data science code faster and more reliable. Here are the five most useful functions for data science projects:\n",
    "\n",
    "- `combinations()` - Generate unique pairs from lists without repetition\n",
    "- `combinations_with_replacement()` - Generate combinations including self-pairs\n",
    "- `permutations()` - Generate all possible orderings\n",
    "- `product()` - Create all possible pairings across multiple lists\n",
    "- `islice()` - Extract slices from iterators without loading full datasets\n",
    "\n",
    "In this article, we'll explore how to use these functions to solve common feature engineering problems.\n",
    "\n",
    "## Setup\n",
    "\n",
    "Before we dive into the examples, let's set up the sample dataset."
   ]
  },
  {
   "cell_type": "code",
   "execution_count": null,
   "metadata": {},
   "outputs": [],
   "source": [
    "from itertools import (\n",
    "    combinations,\n",
    "    combinations_with_replacement,\n",
    "    islice,\n",
    "    permutations,\n",
    "    product,\n",
    ")\n",
    "\n",
    "import numpy as np\n",
    "import pandas as pd\n",
    "\n",
    "# Create simple sample dataset\n",
    "np.random.seed(42)\n",
    "data = {\n",
    "    \"age\": np.random.randint(20, 65, 20),\n",
    "    \"income\": np.random.randint(30000, 120000, 20),\n",
    "    \"experience\": np.random.randint(0, 40, 20),\n",
    "    \"education_years\": np.random.randint(12, 20, 20),\n",
    "}\n",
    "df = pd.DataFrame(data)\n",
    "numerical_features = [\"age\", \"income\", \"experience\", \"education_years\"]\n",
    "print(df.head())"
   ]
  },
  {
   "cell_type": "markdown",
   "metadata": {},
   "source": [
    "| age | income | experience | education_years |\n",
    "|-----|--------|------------|-----------------|\n",
    "| 58  | 94925  | 2          | 15              |\n",
    "| 48  | 97969  | 36         | 13              |\n",
    "| 34  | 35311  | 6          | 19              |\n",
    "| 62  | 113104 | 20         | 15              |\n",
    "| 27  | 83707  | 8          | 13              |\n",
    "\n",
    "\n",
    "## Feature Interactions: From Nested Loops to Combinations {#feature-interactions-from-nested-loops-to-combinations}\n",
    "\n",
    "### Custom Code {#the-inefficient-way}\n",
    "\n",
    "Creating feature interactions manually requires careful index management to avoid duplicates and self-interactions. While possible, this approach becomes error-prone and complex as the number of features grows."
   ]
  },
  {
   "cell_type": "code",
   "execution_count": null,
   "metadata": {},
   "outputs": [],
   "source": [
    "# Manual approach - proper nested loops with index management\n",
    "df_manual = df.copy()\n",
    "\n",
    "for i in range(len(numerical_features)):\n",
    "    for j in range(i + 1, len(numerical_features)):\n",
    "        feature1, feature2 = numerical_features[i], numerical_features[j]\n",
    "        interaction_name = f\"{feature1}_x_{feature2}\"\n",
    "        df_manual[interaction_name] = df_manual[feature1] * df_manual[feature2]\n",
    "\n",
    "print(f\"First few: {list(df_manual.columns[4:7])}\")"
   ]
  },
  {
   "cell_type": "markdown",
   "metadata": {},
   "source": [
    "```text\n",
    "First few: ['age_x_income', 'age_x_experience', 'age_x_education_years']\n",
    "```\n",
    "\n",
    "### With Itertools {#the-itertools-way}\n",
    "\n",
    "Use `combinations()` to generate unique pairs from a list without repetition or order dependency.\n",
    "\n",
    "For example, `combinations(['A','B','C'], 2)` yields `(A,B), (A,C), (B,C)`.\n",
    "\n",
    "![combinations(['A','B','C'], 2)](https://codecut.ai/wp-content/uploads/2025/07/diagram-export-7-26-2025-10_41_00-AM.png)\n",
    "\n",
    "Let's apply this to feature interactions:"
   ]
  },
  {
   "cell_type": "code",
   "execution_count": null,
   "metadata": {},
   "outputs": [],
   "source": [
    "# Automated approach with itertools.combinations\n",
    "df_itertools = df.copy()\n",
    "\n",
    "for feature1, feature2 in combinations(numerical_features, 2):\n",
    "    interaction_name = f\"{feature1}_x_{feature2}\"\n",
    "    df_itertools[interaction_name] = df_itertools[feature1] * df_itertools[feature2]\n",
    "\n",
    "print(f\"First few: {list(df_itertools.columns[4:7])}\")"
   ]
  },
  {
   "cell_type": "markdown",
   "metadata": {},
   "source": [
    "```text\n",
    "First few: ['age_x_income', 'age_x_experience', 'age_x_education_years']\n",
    "```\n",
    "\n",
    "For comprehensive production practices in data science, check out [Production-Ready Data Science](https://codecut.ai/production-ready-data-science/).\n",
    "\n",
    "## Polynomial Features: From Manual Assignments to Automated Generation {#polynomial-features-from-manual-assignments-to-automated-generation}\n",
    "\n",
    "### Custom Code {#the-inefficient-way-1}\n",
    "\n",
    "Creating polynomial features manually requires separate handling of squared terms and interaction terms, involving complex logic to generate all degree-2 polynomial combinations."
   ]
  },
  {
   "cell_type": "code",
   "execution_count": null,
   "metadata": {},
   "outputs": [],
   "source": [
    "df_manual_poly = df.copy()\n",
    "\n",
    "# Create squared features\n",
    "for feature in numerical_features:\n",
    "    df_manual_poly[f\"{feature}_squared\"] = df_manual_poly[feature] ** 2\n",
    "\n",
    "# Create interaction features with list slicing\n",
    "for i, feature1 in enumerate(numerical_features):\n",
    "    for feature2 in numerical_features[i + 1:]:\n",
    "        df_manual_poly[f\"{feature1}_x_{feature2}\"] = df_manual_poly[feature1] * df_manual_poly[feature2]\n",
    "\n",
    "# Show polynomial features created\n",
    "polynomial_features = list(df_manual_poly.columns[4:])\n",
    "print(f\"First few polynomial features: {polynomial_features[:6]}\")"
   ]
  },
  {
   "cell_type": "markdown",
   "metadata": {},
   "source": [
    "```text\n",
    "First few polynomial features: ['age_squared', 'income_squared', 'experience_squared', 'education_years_squared', 'age_x_income', 'age_x_experience']\n",
    "```\n",
    "\n",
    "### With Itertools {#the-itertools-way-1}\n",
    "\n",
    "Use `combinations_with_replacement()` to generate combinations where items can repeat.\n",
    "\n",
    "For example, `combinations_with_replacement(['A','B','C'], 2)` yields `(A,A), (A,B), (A,C), (B,B), (B,C), (C,C)`.\n",
    "\n",
    "![combinations_with_replacement(['A','B','C'], 2)](https://codecut.ai/wp-content/uploads/2025/07/diagram-export-7-26-2025-10_41_18-AM.png)\n",
    "\n",
    "With this method, we can eliminate separate logic for squared terms and interaction terms in polynomial feature generation."
   ]
  },
  {
   "cell_type": "code",
   "execution_count": null,
   "metadata": {},
   "outputs": [],
   "source": [
    "# Automated approach with combinations_with_replacement\n",
    "df_poly = df.copy()\n",
    "\n",
    "# Create features using the same combinations logic\n",
    "for feature1, feature2 in combinations_with_replacement(numerical_features, 2):\n",
    "    if feature1 == feature2:\n",
    "        # Squared feature\n",
    "        df_poly[f\"{feature1}_squared\"] = df_poly[feature1] ** 2\n",
    "    else:\n",
    "        # Interaction feature\n",
    "        df_poly[f\"{feature1}_x_{feature2}\"] = df_poly[feature1] * df_poly[feature2]\n",
    "\n",
    "# Show polynomial features created\n",
    "polynomial_features = list(df_poly.columns[4:])\n",
    "print(f\"First few polynomial features: {polynomial_features[:6]}\")"
   ]
  },
  {
   "cell_type": "markdown",
   "metadata": {},
   "source": [
    "```text\n",
    "First few polynomial features: ['age_squared', 'age_x_income', 'age_x_experience', 'age_x_education_years', 'income_squared', 'income_x_experience']\n",
    "```\n",
    "\n",
    "## Sequence Patterns: From Manual Tracking to Permutations {#sequence-patterns-from-manual-tracking-to-permutations}\n",
    "\n",
    "### Custom Code {#the-inefficient-way-2}\n",
    "\n",
    "Creating features from ordered sequences requires manual permutation logic with nested loops. This becomes complex and error-prone as sequences grow larger."
   ]
  },
  {
   "cell_type": "code",
   "execution_count": null,
   "metadata": {},
   "outputs": [],
   "source": [
    "# Manual approach - implementing permutation logic\n",
    "actions = [\"login\", \"browse\", \"purchase\"]\n",
    "sequence_patterns = []\n",
    "\n",
    "# Manual permutation generation for 3 items\n",
    "for i in range(len(actions)):\n",
    "    for j in range(len(actions)):\n",
    "        if i != j:  # Ensure different first and second\n",
    "            for k in range(len(actions)):\n",
    "                if k != i and k != j:  # Ensure all different\n",
    "                    pattern = f\"{actions[i]}_{actions[j]}_{actions[k]}\"\n",
    "                    sequence_patterns.append(pattern)\n",
    "\n",
    "print(f\"First few: {sequence_patterns[:3]}\")"
   ]
  },
  {
   "cell_type": "markdown",
   "metadata": {},
   "source": [
    "```text\n",
    "First few: ['login_browse_purchase', 'login_purchase_browse', 'browse_login_purchase']\n",
    "```\n",
    "\n",
    "### With Itertools {#the-itertools-way-2}\n",
    "\n",
    "Use `permutations()` to generate all possible orderings where sequence matters.\n",
    "\n",
    "For example, `permutations(['A','B','C'])` yields `(A,B,C), (A,C,B), (B,A,C), (B,C,A), (C,A,B), (C,B,A)`.\n",
    "\n",
    "![permutations(['A','B','C'])](https://codecut.ai/wp-content/uploads/2025/07/diagram-export-7-26-2025-10_41_09-AM.png)\n",
    "\n",
    "Let's apply this to user behavior sequences:"
   ]
  },
  {
   "cell_type": "code",
   "execution_count": null,
   "metadata": {},
   "outputs": [],
   "source": [
    "# Automated approach with itertools.permutations\n",
    "actions = [\"login\", \"browse\", \"purchase\"]\n",
    "\n",
    "# Generate all sequence permutations\n",
    "sequence_patterns = [\"_\".join(perm) for perm in permutations(actions)]\n",
    "\n",
    "print(f\"Permutations created: {len(sequence_patterns)} patterns\")\n",
    "print(f\"First few: {sequence_patterns[:3]}\")"
   ]
  },
  {
   "cell_type": "markdown",
   "metadata": {},
   "source": [
    "```text\n",
    "Permutations created: 6 patterns\n",
    "First few: ['login_browse_purchase', 'login_purchase_browse', 'browse_login_purchase']\n",
    "```\n",
    "\n",
    "## Cartesian Products: From Nested Loops to Product {#cartesian-products-from-nested-loops-to-product}\n",
    "\n",
    "### Custom Code {#the-inefficient-way-3}\n",
    "\n",
    "Creating combinations between multiple categorical variables requires nested loops for each variable. The code complexity grows exponentially as more variables are added."
   ]
  },
  {
   "cell_type": "code",
   "execution_count": null,
   "metadata": {},
   "outputs": [],
   "source": [
    "# Manual approach - nested loops for categorical combinations\n",
    "education_levels = [\"bachelor\", \"master\", \"phd\"]\n",
    "locations = [\"urban\", \"suburban\", \"rural\"]\n",
    "age_groups = [\"young\", \"middle\", \"senior\"]\n",
    "\n",
    "categorical_combinations = []\n",
    "for edu in education_levels:\n",
    "    for loc in locations:\n",
    "        for age in age_groups:\n",
    "            combination = f\"{edu}_{loc}_{age}\"\n",
    "            categorical_combinations.append(combination)\n",
    "\n",
    "print(f\"Manual nested loops created {len(categorical_combinations)} combinations\")\n",
    "print(f\"First few: {categorical_combinations[:3]}\")"
   ]
  },
  {
   "cell_type": "markdown",
   "metadata": {},
   "source": [
    "```text\n",
    "Manual nested loops created 27 combinations\n",
    "First few: ['bachelor_urban_young', 'bachelor_urban_middle', 'bachelor_urban_senior']\n",
    "```\n",
    "\n",
    "### With Itertools {#the-itertools-way-3}\n",
    "\n",
    "Use `product()` to generate all possible combinations across multiple lists.\n",
    "\n",
    "For example, `product(['A','B'], ['1','2'])` yields `(A,1), (A,2), (B,1), (B,2)`.\n",
    "\n",
    "![product(['A','B'], ['1','2'])](https://codecut.ai/wp-content/uploads/2025/07/diagram-export-7-26-2025-10_41_13-AM.png)\n",
    "\n",
    "Let's apply this to categorical features:"
   ]
  },
  {
   "cell_type": "code",
   "execution_count": null,
   "metadata": {},
   "outputs": [],
   "source": [
    "# Automated approach with itertools.product\n",
    "education_levels = [\"bachelor\", \"master\", \"phd\"]\n",
    "locations = [\"urban\", \"suburban\", \"rural\"]\n",
    "age_groups = [\"young\", \"middle\", \"senior\"]\n",
    "\n",
    "# Generate all combinations\n",
    "combinations_list = list(product(education_levels, locations, age_groups))\n",
    "categorical_features = [f\"{edu}_{loc}_{age}\" for edu, loc, age in combinations_list]\n",
    "\n",
    "print(f\"Product created {len(categorical_features)} combinations\")\n",
    "print(f\"First few: {categorical_features[:3]}\")"
   ]
  },
  {
   "cell_type": "markdown",
   "metadata": {},
   "source": [
    "```text\n",
    "Product created 27 combinations\n",
    "First few: ['bachelor_urban_young', 'bachelor_urban_middle', 'bachelor_urban_senior']\n",
    "```\n",
    "\n",
    "\n",
    "## Efficient Sampling: From Full Data Loading to Islice {#efficient-sampling-from-full-data-loading-to-islice}\n",
    "\n",
    "### Custom Code {#the-inefficient-way-5}\n",
    "\n",
    "Sampling data for prototyping typically requires loading the entire dataset into memory first. This wastes memory and time when you only need a small subset for initial feature exploration."
   ]
  },
  {
   "cell_type": "code",
   "execution_count": null,
   "metadata": {},
   "outputs": [],
   "source": [
    "import sys\n",
    "\n",
    "# Load entire dataset into memory\n",
    "large_dataset = list(range(1_000_000))\n",
    "\n",
    "# Calculate memory usage\n",
    "dataset_mb = sys.getsizeof(large_dataset) / 1024 / 1024\n",
    "\n",
    "# Sample only what we need\n",
    "sample_data = large_dataset[:10]\n",
    "\n",
    "# Print results\n",
    "print(f\"Loaded dataset: {len(large_dataset)} items ({dataset_mb:.1f} MB)\")\n",
    "print(f\"Sample data: {sample_data}\")"
   ]
  },
  {
   "cell_type": "markdown",
   "metadata": {},
   "source": [
    "```text\n",
    "Loaded dataset: 1000000 items (7.6 MB)\n",
    "Sample data: [0, 1, 2, 3, 4, 5, 6, 7, 8, 9]\n",
    "```\n",
    "\n",
    "### With Itertools {#the-itertools-way-5}\n",
    "\n",
    "Use `islice()` to extract a slice from an iterator without loading the full dataset.\n",
    "\n",
    "For example, `islice(large_data, 5, 10)` yields items 5-9.\n",
    "\n",
    "![islice([0,1,2,3,4,5,6,7,8,9], 3)](https://codecut.ai/wp-content/uploads/2025/07/diagram-export-7-26-2025-10_45_21-AM.png)\n",
    "\n",
    "Let's apply this to dataset sampling:"
   ]
  },
  {
   "cell_type": "code",
   "execution_count": null,
   "metadata": {},
   "outputs": [],
   "source": [
    "# Process only what you need\n",
    "sample_data = list(islice(large_dataset, 10))\n",
    "\n",
    "# Calculate memory usage\n",
    "sample_kb = sys.getsizeof(sample_data) / 1024\n",
    "\n",
    "# Print results\n",
    "print(f\"Processed dataset: {len(sample_data)} items ({sample_kb:.2f} KB)\")\n",
    "print(f\"Sample data: {sample_data}\")"
   ]
  },
  {
   "cell_type": "markdown",
   "metadata": {},
   "source": [
    "```text\n",
    "Processed dataset: 10 items (0.18 KB)\n",
    "Sample data: [0, 1, 2, 3, 4, 5, 6, 7, 8, 9]\n",
    "```\n",
    "\n",
    "For even greater memory efficiency with large-scale feature engineering, consider [Polars vs. Pandas: A Fast, Multi-Core Alternative for DataFrames](https://codecut.ai/polars-vs-pandas-a-fast-multi-core-alternative-for-dataframes/)."
   ]
  }
 ],
 "metadata": {
  "kernelspec": {
   "display_name": "Python 3 (ipykernel)",
   "language": "python",
   "name": "python3",
   "path": "/Users/khuyentran/codecut_content/codecut_articles/.venv/share/jupyter/kernels/python3"
  }
 },
 "nbformat": 4,
 "nbformat_minor": 4
}
