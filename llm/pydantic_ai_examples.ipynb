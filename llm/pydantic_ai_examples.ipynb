{
 "cells": [
  {
   "cell_type": "markdown",
   "id": "0",
   "metadata": {
    "marimo": {
     "config": {
      "hide_code": true
     }
    }
   },
   "source": [
    "# Introduction"
   ]
  },
  {
   "cell_type": "code",
   "execution_count": null,
   "id": "1",
   "metadata": {},
   "outputs": [],
   "source": [
    "import os\n",
    "\n",
    "from openai import OpenAI\n",
    "\n",
    "client = OpenAI(\n",
    "    api_key=os.environ.get(\"OPENAI_API_KEY\"),\n",
    ")\n",
    "\n",
    "openai_response = client.responses.create(\n",
    "    model=\"gpt-4o-mini-2024-07-18\",\n",
    "    instructions=\"Extract name, years of experience, and primary skill from the job applicant description.\",\n",
    "    input=\"Khuyen Tran is a data scientist with 5 years of experience, skilled in Python and machine learning.\",\n",
    ")\n",
    "\n",
    "print(openai_response.output_text)"
   ]
  },
  {
   "cell_type": "code",
   "execution_count": null,
   "id": "2",
   "metadata": {
    "marimo": {
     "config": {
      "hide_code": true
     }
    }
   },
   "outputs": [],
   "source": [
    "# Core Workflow"
   ]
  },
  {
   "cell_type": "code",
   "execution_count": null,
   "id": "3",
   "metadata": {
    "marimo": {
     "config": {
      "hide_code": true
     }
    }
   },
   "outputs": [],
   "source": [
    "import nest_asyncio\n",
    "\n",
    "nest_asyncio.apply()"
   ]
  },
  {
   "cell_type": "code",
   "execution_count": null,
   "id": "4",
   "metadata": {},
   "outputs": [],
   "source": [
    "from typing import List\n",
    "\n",
    "from pydantic import BaseModel\n",
    "from pydantic_ai import Agent\n"
   ]
  },
  {
   "cell_type": "code",
   "execution_count": null,
   "id": "5",
   "metadata": {},
   "outputs": [],
   "source": [
    "class ApplicantProfile(BaseModel):\n",
    "    first_name: str\n",
    "    last_name: str\n",
    "    experience_years: int\n",
    "    primary_skill: List[str]\n"
   ]
  },
  {
   "cell_type": "code",
   "execution_count": null,
   "id": "6",
   "metadata": {},
   "outputs": [],
   "source": [
    "agent = Agent(\n",
    "    \"gpt-4o-mini-2024-07-18\",\n",
    "    system_prompt=\"Extract name, years of experience, and primary skill from the job applicant description.\",\n",
    "    output_type=ApplicantProfile,\n",
    ")\n",
    "\n",
    "result = agent.run_sync(\n",
    "    \"Khuyen Tran is a data scientist with 5 years of experience, skilled in Python and machine learning.\"\n",
    ")\n",
    "print(result.output)"
   ]
  },
  {
   "cell_type": "code",
   "execution_count": null,
   "id": "7",
   "metadata": {},
   "outputs": [],
   "source": [
    "result.output.model_dump()"
   ]
  },
  {
   "cell_type": "code",
   "execution_count": null,
   "id": "8",
   "metadata": {},
   "outputs": [],
   "source": [
    "import pandas as pd\n",
    "\n",
    "df = pd.DataFrame(result.output.model_dump())\n",
    "df"
   ]
  },
  {
   "cell_type": "markdown",
   "id": "9",
   "metadata": {
    "marimo": {
     "config": {
      "hide_code": true
     }
    }
   },
   "source": [
    "# Using the DuckDuckGo Search Tool"
   ]
  },
  {
   "cell_type": "code",
   "execution_count": null,
   "id": "10",
   "metadata": {},
   "outputs": [],
   "source": [
    "class UnemploymentDataSource(BaseModel):\n",
    "    title: List[str]\n",
    "    description: List[str]\n",
    "    url: List[str]\n"
   ]
  },
  {
   "cell_type": "code",
   "execution_count": null,
   "id": "11",
   "metadata": {},
   "outputs": [],
   "source": [
    "from pydantic_ai.common_tools.duckduckgo import duckduckgo_search_tool\n",
    "\n",
    "# Define the agent with DuckDuckGo search tool\n",
    "search_agent = Agent(\n",
    "    \"gpt-4o-mini-2024-07-18\",\n",
    "    tools=[duckduckgo_search_tool()],\n",
    "    output_type=UnemploymentDataSource,\n",
    ")\n",
    "\n",
    "# Run a search for unemployment rate dataset\n",
    "unemployment_result = search_agent.run_sync(\n",
    "    \"Monthly unemployment rate dataset for US from 2018 to 2024\"\n",
    ")\n",
    "\n",
    "print(unemployment_result.output)"
   ]
  },
  {
   "cell_type": "code",
   "execution_count": null,
   "id": "12",
   "metadata": {},
   "outputs": [],
   "source": [
    "unemployment_df = pd.DataFrame(unemployment_result.output.model_dump())\n",
    "unemployment_df"
   ]
  },
  {
   "cell_type": "markdown",
   "id": "13",
   "metadata": {
    "marimo": {
     "config": {
      "hide_code": true
     }
    }
   },
   "source": [
    "## Comparison with LangChain Structured Output"
   ]
  },
  {
   "cell_type": "code",
   "execution_count": null,
   "id": "14",
   "metadata": {},
   "outputs": [],
   "source": [
    "from typing import Optional\n",
    "\n",
    "\n",
    "class RecipeExtractor(BaseModel):\n",
    "    ingredients: List[str]\n",
    "    instructions: str\n",
    "    cook_time: Optional[str]\n"
   ]
  },
  {
   "cell_type": "code",
   "execution_count": null,
   "id": "15",
   "metadata": {},
   "outputs": [],
   "source": [
    "recipe_agent = Agent(\n",
    "    \"gpt-4o-mini-2024-07-18\",\n",
    "    system_prompt=\"Pull ingredients, instructions, and cook time.\",\n",
    "    output_type=RecipeExtractor,\n",
    ")\n",
    "\n",
    "recipe_result = recipe_agent.run_sync(\n",
    "    \"Sugar, flour, cocoa, eggs, and milk. Mix, bake at 350F for 30 min.\"\n",
    ")\n",
    "print(recipe_result.output)\n",
    "print(recipe_result.output.cook_time)"
   ]
  },
  {
   "cell_type": "code",
   "execution_count": null,
   "id": "16",
   "metadata": {},
   "outputs": [],
   "source": [
    "from langchain_core.messages import HumanMessage, SystemMessage\n",
    "from langchain_openai import ChatOpenAI\n",
    "\n",
    "# Initialize the chat model\n",
    "model = ChatOpenAI(model=\"gpt-4o-mini-2024-07-18\", temperature=0)\n",
    "\n",
    "# Bind the response formatter schema\n",
    "model_with_tools = model.bind_tools([RecipeExtractor])\n",
    "\n",
    "# Create a list of messages to send to the model\n",
    "messages = [\n",
    "    SystemMessage(\"Pull ingredients, instructions, and cook time.\"),\n",
    "    HumanMessage(\n",
    "        \"Sugar, flour, cocoa, eggs, and milk. Mix, bake at 350F for 30 min.\"\n",
    "    ),\n",
    "]\n",
    "\n",
    "# Invoke the model with the prepared messages\n",
    "ai_msg = model_with_tools.invoke(messages)\n",
    "\n",
    "# Access the tool calls made during the model invocation\n",
    "print(ai_msg.tool_calls[0])\n",
    "print(ai_msg.tool_calls[0][\"args\"][\"cook_time\"])\n"
   ]
  }
 ],
 "metadata": {
  "language_info": {
   "name": "python"
  }
 },
 "nbformat": 4,
 "nbformat_minor": 5
}
