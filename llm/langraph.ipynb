{
 "cells": [
  {
   "cell_type": "markdown",
   "metadata": {},
   "source": [
    "# Building Coordinated AI Agents with LangGraph\n",
    "\n",
    "LangGraph provides a framework for building coordinated multi-agent systems with specialized agents working together through structured communication.\n",
    "\n",
    "## Getting Started with LangGraph\n",
    "\n",
    "### Environment Setup\n",
    "\n",
    "First, you should setup your environment with the following packages:"
   ]
  },
  {
   "cell_type": "code",
   "execution_count": null,
   "metadata": {},
   "outputs": [],
   "source": [
    "# Install required packages\n",
    "# pip install langgraph langgraph-supervisor langchain langchain-core langchain-tavily langchain-openai python-dotenv\n",
    "\n",
    "from dotenv import load_dotenv\n",
    "from langchain_openai import ChatOpenAI\n",
    "from langchain_tavily import TavilySearch\n",
    "from langgraph.prebuilt import create_react_agent\n",
    "\n",
    "load_dotenv()"
   ]
  },
  {
   "cell_type": "markdown",
   "metadata": {},
   "source": [
    "### Creating Agents in LangGraph\n",
    "\n",
    "LangGraph makes it very easy to create your first agent. Let's walk through how to create a general purpose assistant with web search functionality in a few lines of code."
   ]
  },
  {
   "cell_type": "code",
   "execution_count": null,
   "metadata": {},
   "outputs": [],
   "source": [
    "# Initialize the search tool\n",
    "web_search = TavilySearch(max_results=3)\n",
    "\n",
    "# Create the agent using create_react_agent()\n",
    "agent = create_react_agent(\n",
    "    model=ChatOpenAI(model=\"gpt-4o\"),\n",
    "    tools=[web_search],\n",
    "    prompt=\"You are a helpful assistant that can search the web for information and summarize the results to enhance your output.\",\n",
    ")"
   ]
  },
  {
   "cell_type": "code",
   "execution_count": null,
   "metadata": {},
   "outputs": [],
   "source": [
    "# Invoke the agent with a question\n",
    "response = agent.invoke(\n",
    "    {\n",
    "        \"messages\": [\n",
    "            {\n",
    "                \"role\": \"user\",\n",
    "                \"content\": \"Find the open and close prices of Apple's stocks for June 1, 2025.\"\n",
    "            }\n",
    "        ]\n",
    "    }\n",
    ")\n",
    "\n",
    "print(response[\"messages\"][-1].content)"
   ]
  },
  {
   "cell_type": "markdown",
   "metadata": {},
   "source": [
    "### Creating a Supervisor Multi-Agent System\n",
    "\n",
    "A supervisor is a special agent that manages the workflow between multiple agents. It is responsible for:\n",
    "\n",
    "- Routing the workflow between agents\n",
    "- Managing the conversation history\n",
    "- Ensuring the agents are working together to achieve the goal"
   ]
  },
  {
   "cell_type": "code",
   "execution_count": null,
   "metadata": {},
   "outputs": [],
   "source": [
    "from langgraph.checkpoint.memory import MemorySaver\n",
    "from langgraph_supervisor import create_supervisor\n",
    "\n",
    "# Define domain-specific agents with their own tools and prompts\n",
    "agent1 = create_react_agent(\n",
    "    model=ChatOpenAI(model=\"gpt-4o\"),\n",
    "    tools=[web_search],\n",
    "    prompt=\"You are a bull agent - find positive investment indicators\",\n",
    ")\n",
    "agent2 = create_react_agent(\n",
    "    model=ChatOpenAI(model=\"gpt-4o\"), \n",
    "    tools=[web_search],\n",
    "    prompt=\"You are a bear agent - find negative investment indicators\",\n",
    ")\n",
    "agent3 = create_react_agent(\n",
    "    model=ChatOpenAI(model=\"gpt-4o\"),\n",
    "    tools=[web_search], \n",
    "    prompt=\"You are a chairman - make final investment decisions\",\n",
    ")\n",
    "\n",
    "# Create a memory checkpointer to persist conversation history for the supervisor\n",
    "memory = MemorySaver()\n",
    "\n",
    "supervisor = create_supervisor(\n",
    "    model=ChatOpenAI(model=\"gpt-4o\"),\n",
    "    agents=[agent1, agent2, agent3],\n",
    "    prompt=\"Detailed system prompt instructing the model how to route the workflow.\",\n",
    ").compile(checkpointer=memory)"
   ]
  },
  {
   "cell_type": "code",
   "execution_count": null,
   "metadata": {},
   "outputs": [],
   "source": [
    "# Call the supervisor with a user query\n",
    "response = supervisor.invoke({\n",
    "    \"messages\": [\n",
    "        {\n",
    "            \"role\": \"user\",\n",
    "            \"content\": \"Should I invest in NVDA stock? I want to hear both bullish and bearish arguments.\"\n",
    "        }\n",
    "    ]\n",
    "})\n",
    "\n",
    "print(response[\"messages\"][-1].content)"
   ]
  }
 ],
 "metadata": {
  "kernelspec": {
   "display_name": "Python 3 (ipykernel)",
   "language": "python",
   "name": "python3",
   "path": "/Users/khuyentran/codecut_content/codecut_articles/.venv/share/jupyter/kernels/python3"
  }
 },
 "nbformat": 4,
 "nbformat_minor": 4
}
